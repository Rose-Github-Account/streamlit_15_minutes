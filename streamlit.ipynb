{
  "nbformat": 4,
  "nbformat_minor": 0,
  "metadata": {
    "colab": {
      "provenance": [],
      "authorship_tag": "ABX9TyMrQcRDHXvPBp2B5vcQmb3T",
      "include_colab_link": true
    },
    "kernelspec": {
      "name": "python3",
      "display_name": "Python 3"
    },
    "language_info": {
      "name": "python"
    }
  },
  "cells": [
    {
      "cell_type": "markdown",
      "metadata": {
        "id": "view-in-github",
        "colab_type": "text"
      },
      "source": [
        "<a href=\"https://colab.research.google.com/github/Rose-Github-Account/streamlit_15_minutes/blob/main/streamlit.ipynb\" target=\"_parent\"><img src=\"https://colab.research.google.com/assets/colab-badge.svg\" alt=\"Open In Colab\"/></a>"
      ]
    },
    {
      "cell_type": "code",
      "execution_count": null,
      "metadata": {
        "id": "PTy1cqSVS3z3"
      },
      "outputs": [],
      "source": [
        "import streamlit as st\n",
        "import pandas as pd\n",
        "import random\n",
        "\n",
        "st.set_page_config(page_title=\"Student Data Generator\",layout=\"wide\")\n",
        "\n",
        "st.title(\"Student CSV File Generator\")\n",
        "\n",
        "# Here's a list of 15 student names in Python list format\n",
        "names = [\n",
        "    \"Alice Johnson\",\n",
        "    \"Benjamin Smith\",\n",
        "    \"Clara Davis\",\n",
        "    \"Daniel Lee\",\n",
        "    \"Emily Brown\",\n",
        "    \"Frank Martinez\",\n",
        "    \"Grace Wilson\",\n",
        "    \"Henry Thompson\",\n",
        "    \"Isabella Taylor\",\n",
        "    \"Jack Harris\",\n",
        "    \"Karen Clark\",\n",
        "    \"Liam Lewis\",\n",
        "    \"Mia Young\",\n",
        "    \"Noah Walker\",\n",
        "    \"Olivia Hall\"\n",
        "]\n",
        "\n",
        "students = []\n",
        "\n",
        "for i in range(1,16):\n",
        "   student = {\n",
        "    \"ID\":i,\n",
        "    \"Name\": random.choice(names),\n",
        "    \"Age\":  random.randint(18,25),\n",
        "    \"Grade\": random.choice([\"A\",\"B\",\"C\",\"D\",\"E\",\"F\"]),\n",
        "     \"Marks\": random.randint(40,100)\n",
        "}\n",
        "students.append(student)\n",
        "\n",
        "df = pd.DataFrame(students)\n",
        "st.subheader(\"Generated Students Data\")\n",
        "\n",
        "st.dataframe(df)\n",
        "\n",
        "csv_file = df.to_csv(index=False).encode(\"utf-8\")\n",
        "st.download_button(\"Download CSV File\",csv_file,\"students.csv\",\"text/csv\")\n",
        "st.success(\"Students Record Generated Successfully\")"
      ]
    }
  ]
}